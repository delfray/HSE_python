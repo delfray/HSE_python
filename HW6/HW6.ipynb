{
 "cells": [
  {
   "cell_type": "markdown",
   "metadata": {},
   "source": [
    "Паблик: https://vk.com/public81208883, id:-81208883\n",
    "\n",
    "\n",
    "Корпус всех постов и комментариев:\n",
    "\n",
    "\n",
    "Корпус всех лемматизированных постов и комментариев:\n",
    "\n",
    "\n",
    "Sql база данных:\n",
    "\n",
    "В данной работе я:\n",
    "- Оформила программу по PEP8(Кроме W391, W605, E722, E402 из-за особенностей jupyter).\n",
    "- Скачала абсолютно все посты и комментарии из группы.\n",
    "- Посчитала среднюю длину постов и комментариев в словах и построила соответствующие графики.\n",
    "- Программа умеет доставать из профиля пользователя параметры пол, город и возраст, а для постов подробную дату публикации.\n",
    "- Раскрасила и подписала все графики.\n",
    "- Построила графики зависимости средней длины комментариев от города и возраста.\n",
    "- Построила графики зависимости средней длины поста от года и месяца публикации.\n",
    "- Построила график частотности для топ-30 слов по нелемматизированным текстам.\n",
    "- Построила график частотности для топ-30 слов по лемматизированным текстам.\n",
    "- Построила облако слов для топ-30 слов по лемматизированным текстам.\n",
    "- Записала корпус постов и комментариев в текстовый файл.\n",
    "- Записала корпус лемматизированных постов и комментариев в текстовый файл. \n",
    "- Записала всю собранную информацию о пользователях, постах и комментариях в sql базу данных.\n",
    "- Оптимизировала работу программы с 15 минут до 1,5 минут."
   ]
  },
  {
   "cell_type": "markdown",
   "metadata": {},
   "source": [
    "# Подготовка"
   ]
  },
  {
   "cell_type": "markdown",
   "metadata": {},
   "source": [
    "По какой-то причине даже 64-битный python возвращает win32. Из-за этого не может работать pymystem3. Поэтому приходится обманывать систему, самим присваивая её разрядность. Но на правильно установленном python pymystem3 запускается."
   ]
  },
  {
   "cell_type": "code",
   "execution_count": 1,
   "metadata": {},
   "outputs": [],
   "source": [
    "# Библиотеки\n",
    "import vk_api\n",
    "import re\n",
    "from datetime import date\n",
    "import time\n",
    "\n",
    "# Графики\n",
    "import plotly\n",
    "import plotly.plotly as py\n",
    "import plotly.graph_objs as go\n",
    "from IPython import display\n",
    "\n",
    "# Обман системы для pymystem3\n",
    "import sys\n",
    "sys.platform = \"win64\"\n",
    "from pymystem3 import Mystem\n",
    "\n",
    "# Облако\n",
    "from PIL import Image\n",
    "from wordcloud import WordCloud\n",
    "import matplotlib.pyplot as plt\n",
    "import numpy as np\n",
    "\n",
    "# База данных\n",
    "import sqlite3"
   ]
  },
  {
   "cell_type": "markdown",
   "metadata": {},
   "source": [
    "# Данные\n",
    "Укажите сервисный ключ доступа в файле config.txt\n",
    "\n",
    "Для Plotly Вы можете создать собственный аккаунт на https://plot.ly/python/"
   ]
  },
  {
   "cell_type": "code",
   "execution_count": 2,
   "metadata": {},
   "outputs": [
    {
     "name": "stdout",
     "output_type": "stream",
     "text": [
      "Успешное чтение конфигураций\n"
     ]
    }
   ],
   "source": [
    "# Чтение данных из файла конфигураций\n",
    "with open('config.txt', 'r', encoding='utf-8') as f:\n",
    "    text = f.read().split('\\n')\n",
    "    try:\n",
    "        APP_TOKEN = text[0].split(\" = \")[1]\n",
    "        VERSION = text[1].split(\" = \")[1]\n",
    "        GROUP_ID = int(text[2].split(\" = \")[1])\n",
    "        PLOTLY_USER = text[3].split(\" = \")[1]\n",
    "        PLOTLY_KEY = text[4].split(\" = \")[1]\n",
    "        print(\"Успешное чтение конфигураций\")\n",
    "    except:\n",
    "        raise ErrorFile(\"Ошибка в файле конфигураций\")\n",
    "\n",
    "# Авторизация в plotly\n",
    "plotly.tools.set_credentials_file(PLOTLY_USER,\n",
    "                                  PLOTLY_KEY)"
   ]
  },
  {
   "cell_type": "markdown",
   "metadata": {},
   "source": [
    "# Функции"
   ]
  },
  {
   "cell_type": "markdown",
   "metadata": {},
   "source": [
    "Для вывода прогресса был взят открытый код функции log_progress из гитхаба\n",
    "https://github.com/kuk/log-progress"
   ]
  },
  {
   "cell_type": "code",
   "execution_count": 3,
   "metadata": {},
   "outputs": [],
   "source": [
    "def log_progress(sequence, every=None, size=None, name='Items'):\n",
    "    from ipywidgets import IntProgress, HTML, VBox\n",
    "    from IPython.display import display\n",
    "\n",
    "    is_iterator = False\n",
    "    if size is None:\n",
    "        try:\n",
    "            size = len(sequence)\n",
    "        except TypeError:\n",
    "            is_iterator = True\n",
    "    if size is not None:\n",
    "        if every is None:\n",
    "            if size <= 200:\n",
    "                every = 1\n",
    "            else:\n",
    "                every = int(size / 200)     # every 0.5%\n",
    "    else:\n",
    "        assert every is not None, 'sequence is iterator, set every'\n",
    "\n",
    "    if is_iterator:\n",
    "        progress = IntProgress(min=0, max=1, value=1)\n",
    "        progress.bar_style = 'info'\n",
    "    else:\n",
    "        progress = IntProgress(min=0, max=size, value=0)\n",
    "    label = HTML()\n",
    "    box = VBox(children=[label, progress])\n",
    "    display(box)\n",
    "\n",
    "    index = 0\n",
    "    try:\n",
    "        for index, record in enumerate(sequence, 1):\n",
    "            if index == 1 or index % every == 0:\n",
    "                if is_iterator:\n",
    "                    label.value = '{name}: {index} / ?'.format(\n",
    "                        name=name,\n",
    "                        index=index\n",
    "                    )\n",
    "                else:\n",
    "                    progress.value = index\n",
    "                    label.value = u'{name}: {index} / {size}'.format(\n",
    "                        name=name,\n",
    "                        index=index,\n",
    "                        size=size\n",
    "                    )\n",
    "            yield record\n",
    "    except:\n",
    "        progress.bar_style = 'danger'\n",
    "        raise\n",
    "    else:\n",
    "        progress.bar_style = 'success'\n",
    "        progress.value = index\n",
    "        label.value = \"{name}: {index}\".format(\n",
    "            name=name,\n",
    "            index=str(index or '?')\n",
    "        )"
   ]
  },
  {
   "cell_type": "markdown",
   "metadata": {},
   "source": [
    "Функция для очистки текста от смайликов, странных символов и конструкций вида [id00000000|name]"
   ]
  },
  {
   "cell_type": "code",
   "execution_count": 4,
   "metadata": {},
   "outputs": [],
   "source": [
    "def vk_clean(text):\n",
    "    new_text = \"\"\n",
    "    i = 0\n",
    "    while(i < len(text)):\n",
    "        try:\n",
    "            if text[i] == '[':\n",
    "                while(text[i] != '|'):\n",
    "                    i += 1\n",
    "                f = i\n",
    "                while(text[i] != ']'):\n",
    "                    i += 1\n",
    "                g = i\n",
    "                new_text += text[f + 1:g]\n",
    "            else:\n",
    "                try:\n",
    "                    new_text += re.findall('[\\w ,.!?\"-]', text[i])[0]\n",
    "                except:\n",
    "                    pass\n",
    "        except:\n",
    "            try:\n",
    "                new_text += re.findall('[\\w\\s,.!?\"-]', text[i])[0]\n",
    "            except:\n",
    "                pass\n",
    "        i += 1\n",
    "    return new_text"
   ]
  },
  {
   "cell_type": "markdown",
   "metadata": {},
   "source": [
    "Функция для подсчёта количества слов в тексте."
   ]
  },
  {
   "cell_type": "code",
   "execution_count": 5,
   "metadata": {},
   "outputs": [],
   "source": [
    "def words_len(text):\n",
    "    text = text.replace(\"\\n\", \" \")\n",
    "    text = text.replace(\",\", \"\").replace(\".\", \"\").replace(\"?\", \"\")\n",
    "    text = text.replace(\"!\", \"\").replace(\"–\", \"\")\n",
    "    words = text.split()\n",
    "    return len(words)"
   ]
  },
  {
   "cell_type": "markdown",
   "metadata": {},
   "source": [
    "Функция, возвращающая массив слов из текста"
   ]
  },
  {
   "cell_type": "code",
   "execution_count": 6,
   "metadata": {},
   "outputs": [],
   "source": [
    "def get_word(text):\n",
    "    text = text.lower()\n",
    "    text = text.replace(\"\\n\", \" \").replace(\"-\", \" \")\n",
    "    text = text.replace(\",\", \"\").replace(\".\", \"\").replace(\"?\", \"\")\n",
    "    text = text.replace(\"!\", \"\").replace(\"–\", \"\")\n",
    "    words = text.split()\n",
    "    return words"
   ]
  },
  {
   "cell_type": "markdown",
   "metadata": {},
   "source": [
    "Функция для вычисления возраста. Если возраст не содержит корректного поля вида 00.00.0000, возвращаем 0"
   ]
  },
  {
   "cell_type": "code",
   "execution_count": 7,
   "metadata": {},
   "outputs": [],
   "source": [
    "def calculate_age(i):\n",
    "    if not i:\n",
    "        i = ''\n",
    "    today = date.today()\n",
    "    i = i.split('.')\n",
    "    if len(i) < 3:\n",
    "        return 0\n",
    "    else:\n",
    "        day = int(i[0])\n",
    "        month = int(i[1])\n",
    "        year = int(i[2])\n",
    "    return today.year - year - ((today.month, today.day) < (month, day))"
   ]
  },
  {
   "cell_type": "markdown",
   "metadata": {},
   "source": [
    "# Работа с VK"
   ]
  },
  {
   "cell_type": "markdown",
   "metadata": {},
   "source": [
    "Авторизация"
   ]
  },
  {
   "cell_type": "code",
   "execution_count": 8,
   "metadata": {},
   "outputs": [],
   "source": [
    "from vk_api import vk_api\n",
    "vk_session = vk_api.VkApi(token=APP_TOKEN)\n",
    "vk = vk_session.get_api()"
   ]
  },
  {
   "cell_type": "markdown",
   "metadata": {},
   "source": [
    "Скачиваем все посты.\n",
    "\n",
    "Узнаём, сколько постов в группе, и скачиваем по 100. Важную информацию из поста храним в словаре."
   ]
  },
  {
   "cell_type": "code",
   "execution_count": 9,
   "metadata": {},
   "outputs": [
    {
     "name": "stdout",
     "output_type": "stream",
     "text": [
      "Постов скачано: 125\n"
     ]
    }
   ],
   "source": [
    "posts = []\n",
    "# Пустой запрос, чтобы узнать общее количество постов в группе\n",
    "response = vk.wall.get(owner_id=GROUP_ID, count=0, offset=0)\n",
    "count = response[\"count\"]\n",
    "counter = 0\n",
    "# ВК выдает по 100 постов\n",
    "while (counter < count):\n",
    "    # Скачиваем по 100 постов\n",
    "    response = vk.wall.get(owner_id=GROUP_ID, count=100, offset=counter)\n",
    "    for item in response[\"items\"]:\n",
    "        posts.append({\"id\": item[\"id\"], \"text\": item[\"text\"], \"comments\": [],\n",
    "                      \"from_id\": item[\"from_id\"], \"date\": item[\"date\"]})\n",
    "    counter += 100\n",
    "print(\"Постов скачано: \" + str(len(posts)))"
   ]
  },
  {
   "cell_type": "markdown",
   "metadata": {},
   "source": [
    "Скачиваем комментарии для каждого поста.\n",
    "\n",
    "Узнаём количество и скачиваем по 100 штук. Бывают удалённые комментарии. Информацию о комментариях добавляем в информацию о посте."
   ]
  },
  {
   "cell_type": "code",
   "execution_count": 10,
   "metadata": {},
   "outputs": [
    {
     "data": {
      "application/vnd.jupyter.widget-view+json": {
       "model_id": "a217c13577274bb1acc8b914cc57acff",
       "version_major": 2,
       "version_minor": 0
      },
      "text/plain": [
       "VBox(children=(HTML(value=''), IntProgress(value=0, max=125)))"
      ]
     },
     "metadata": {},
     "output_type": "display_data"
    },
    {
     "name": "stdout",
     "output_type": "stream",
     "text": [
      "Невозможно обработать комментарий,потому что он удалён:\n",
      "{'id': 5374, 'parents_stack': [], 'date': 1553298342, 'thread': {'count': 2, 'items': [], 'can_post': True, 'show_reply_button': True, 'groups_can_post': True}, 'deleted': True}\n",
      "\n",
      "Постов обработано: 3545\n"
     ]
    }
   ],
   "source": [
    "comment_counter = 0\n",
    "bad_counter = 0\n",
    "for post in log_progress(posts, every=1):\n",
    "    # Пустой запрос, чтобы узнать общее количество комментариев к посту\n",
    "    response = vk.wall.getComments(owner_id=GROUP_ID,\n",
    "                                   post_id=post[\"id\"],\n",
    "                                   count=0,\n",
    "                                   offset=0)\n",
    "    count = response[\"count\"]\n",
    "    counter = 0\n",
    "    while (counter < count):\n",
    "        response = vk.wall.getComments(owner_id=GROUP_ID,\n",
    "                                       post_id=post[\"id\"],\n",
    "                                       count=100,\n",
    "                                       offset=counter)\n",
    "        for item in response[\"items\"]:\n",
    "            comment_counter += 1\n",
    "            try:\n",
    "                if not item.get(\"deleted\"):  # Если комментарий можно прочитать\n",
    "                    post[\"comments\"].append({\"id\": item[\"id\"],\n",
    "                                             \"from_id\": item[\"from_id\"],\n",
    "                                             \"text\": item[\"text\"]})\n",
    "                else:\n",
    "                    print((\"Невозможно обработать комментарий,\" +\n",
    "                           \"потому что он удалён:\\n\") + str(item) + \"\\n\")\n",
    "                    bad_counter += 1\n",
    "            except:\n",
    "                print(\"Except:\\n\" + str(item) + \"\\n\")\n",
    "                bad_counter += 1\n",
    "\n",
    "            counter += 100\n",
    "\n",
    "print(\"Постов обработано: \" + str(comment_counter))"
   ]
  },
  {
   "cell_type": "markdown",
   "metadata": {},
   "source": [
    "Тест на количество комментариев.\n",
    "\n",
    "Используя информацию о том, сколько комментариев мы не смогли прочитать, смотрим, все ли комментарии мы занесли в массив."
   ]
  },
  {
   "cell_type": "code",
   "execution_count": 11,
   "metadata": {},
   "outputs": [
    {
     "data": {
      "application/vnd.jupyter.widget-view+json": {
       "model_id": "3637127db464435a9a7fb5806cdf2f91",
       "version_major": 2,
       "version_minor": 0
      },
      "text/plain": [
       "VBox(children=(HTML(value=''), IntProgress(value=0, max=125)))"
      ]
     },
     "metadata": {},
     "output_type": "display_data"
    },
    {
     "name": "stdout",
     "output_type": "stream",
     "text": [
      "Скачено постов: 3545\n",
      "Испорченых постов: 1\n",
      "Постов в базе: 3544\n",
      "Все посты занесены верно\n"
     ]
    }
   ],
   "source": [
    "test_counter = 0\n",
    "for post in log_progress(posts, every=1):\n",
    "    test_counter += len(post[\"comments\"])\n",
    "print(\"Скачено постов: \" + str(comment_counter))\n",
    "print(\"Испорченых постов: \" + str(bad_counter))\n",
    "print(\"Постов в базе: \" + str(test_counter))\n",
    "if(test_counter == comment_counter - bad_counter):\n",
    "    print(\"Все посты занесены верно\")\n",
    "else:\n",
    "    print(\"Ошибка в занесении постов\")"
   ]
  },
  {
   "cell_type": "markdown",
   "metadata": {},
   "source": [
    "Очищаем тексты постов и комментариев от смайликов, мусора и заменяем обращения вида [id|Имя]. Полученный текст снова записываем в информацию о посте"
   ]
  },
  {
   "cell_type": "code",
   "execution_count": 12,
   "metadata": {},
   "outputs": [],
   "source": [
    "for post in posts:\n",
    "    post['clean_text'] = vk_clean(post[\"text\"])\n",
    "    for comment in post[\"comments\"]:\n",
    "        comment['clean_text'] = vk_clean(comment[\"text\"])"
   ]
  },
  {
   "cell_type": "markdown",
   "metadata": {},
   "source": [
    "Лемматизируем текст\n",
    "\n",
    "Для этого объединяем все тексты постов и комментариев в один большой текст, разделяя их специальным ключом \"DARYI \", который не будет изменён. А после собираем всё обратно."
   ]
  },
  {
   "cell_type": "code",
   "execution_count": 13,
   "metadata": {},
   "outputs": [],
   "source": [
    "m = Mystem()\n",
    "text = \"\"\n",
    "# Для каждого поста и комментариев, принадлежащих ему.\n",
    "# Очень частая конструкция в этой работе.\n",
    "# Cобираем всё в один текст\n",
    "for post in posts:\n",
    "    text += post['clean_text'] + \"DARYI \"\n",
    "    for comment in post['comments']:\n",
    "        text += comment['clean_text'] + \"DARYI \"\n",
    "lemmas = m.lemmatize(text)\n",
    "text = \"\".join(lemmas)\n",
    "temp_mas = text.split(\"DARYI \")\n",
    "\n",
    "\n",
    "i = 0\n",
    "# Разбираем обратно в том же порядке\n",
    "for post in posts:\n",
    "    post['lem_text'] = temp_mas[i]\n",
    "    i += 1\n",
    "    for comment in post['comments']:\n",
    "        comment['lem_text'] = temp_mas[i]\n",
    "        i += 1"
   ]
  },
  {
   "cell_type": "markdown",
   "metadata": {},
   "source": [
    "Заполняем файл 'clean_text.txt' текстом из постов и комментариев. \n",
    "Пустые тексты могут возникать, например, если пользователь прикрепил только картинку."
   ]
  },
  {
   "cell_type": "code",
   "execution_count": 14,
   "metadata": {},
   "outputs": [
    {
     "data": {
      "application/vnd.jupyter.widget-view+json": {
       "model_id": "7a0b984305c74f89a7f7cdae807b1b90",
       "version_major": 2,
       "version_minor": 0
      },
      "text/plain": [
       "VBox(children=(HTML(value=''), IntProgress(value=0, max=125)))"
      ]
     },
     "metadata": {},
     "output_type": "display_data"
    },
    {
     "name": "stdout",
     "output_type": "stream",
     "text": [
      "Файл заполнен\n"
     ]
    }
   ],
   "source": [
    "with open('clean_text.txt', 'w', encoding='utf-8') as f:\n",
    "    for post in log_progress(posts, every=1):\n",
    "        f.write(\"\\n\\nПост: \" + post['clean_text'] + '\\n')\n",
    "        for comment in post[\"comments\"]:\n",
    "            if(len(comment['clean_text']) > 0):  # Без пустых комментариев\n",
    "                f.write(\"Комментарий: \" + comment['clean_text'] + '\\n')\n",
    "print(\"Файл заполнен\")"
   ]
  },
  {
   "cell_type": "markdown",
   "metadata": {},
   "source": [
    "Заполняем файл 'lem_text.txt' лемматизированными текстами"
   ]
  },
  {
   "cell_type": "code",
   "execution_count": 15,
   "metadata": {},
   "outputs": [
    {
     "data": {
      "application/vnd.jupyter.widget-view+json": {
       "model_id": "45d533a1969948958986a9206cfa03c4",
       "version_major": 2,
       "version_minor": 0
      },
      "text/plain": [
       "VBox(children=(HTML(value=''), IntProgress(value=0, max=125)))"
      ]
     },
     "metadata": {},
     "output_type": "display_data"
    },
    {
     "name": "stdout",
     "output_type": "stream",
     "text": [
      "Файл заполнен\n"
     ]
    }
   ],
   "source": [
    "with open('lem_text.txt', 'w', encoding='utf-8') as f:\n",
    "    for post in log_progress(posts, every=1):\n",
    "        f.write(\"\\n\\nПост: \" + post['lem_text'] + '\\n')\n",
    "        for comment in post[\"comments\"]:\n",
    "            if(len(comment['lem_text']) > 0):  # Без пустых комментариев\n",
    "                f.write(\"Комментарий: \" + comment['clean_text'] + '\\n')\n",
    "print(\"Файл заполнен\")"
   ]
  },
  {
   "cell_type": "markdown",
   "metadata": {},
   "source": [
    "Считаем длины постов, комментариев и среднюю длину комментариев для каждого поста. Все данные всё также храним в информации о посте."
   ]
  },
  {
   "cell_type": "code",
   "execution_count": 16,
   "metadata": {},
   "outputs": [
    {
     "data": {
      "application/vnd.jupyter.widget-view+json": {
       "model_id": "7542659638d04f78a7cfdf49d6244fcc",
       "version_major": 2,
       "version_minor": 0
      },
      "text/plain": [
       "VBox(children=(HTML(value=''), IntProgress(value=0, max=125)))"
      ]
     },
     "metadata": {},
     "output_type": "display_data"
    },
    {
     "name": "stdout",
     "output_type": "stream",
     "text": [
      "Посчитано\n"
     ]
    }
   ],
   "source": [
    "for post in log_progress(posts, every=1):\n",
    "    post['text_len'] = words_len(post['clean_text'])\n",
    "    average_value = 0\n",
    "    for comment in post['comments']:\n",
    "        comment['text_len'] = words_len(comment['clean_text'])\n",
    "        average_value += comment['text_len']\n",
    "    post['average_value'] = round(average_value / len(post['comments']))\n",
    "print(\"Посчитано\")"
   ]
  },
  {
   "cell_type": "markdown",
   "metadata": {},
   "source": [
    "Загружаем информацию о пользователях\n",
    "\n",
    "Для каждого пользователя вк, автора поста или группы загружаем пол, город и дату рождения. Если их нет, то записываем в поле None. Для ускорения работы запрашиваем информацию о 500 пользователях за раз."
   ]
  },
  {
   "cell_type": "code",
   "execution_count": 17,
   "metadata": {},
   "outputs": [
    {
     "data": {
      "application/vnd.jupyter.widget-view+json": {
       "model_id": "7c4c976ebb8a4b03b7e338f13f55654a",
       "version_major": 2,
       "version_minor": 0
      },
      "text/plain": [
       "VBox(children=(HTML(value=''), IntProgress(value=0, max=1743)))"
      ]
     },
     "metadata": {},
     "output_type": "display_data"
    },
    {
     "name": "stdout",
     "output_type": "stream",
     "text": [
      "Информация о пользователях загружена\n"
     ]
    }
   ],
   "source": [
    "people = {}\n",
    "# Для всех постов и комментариев запоминаем автора\n",
    "for post in posts:\n",
    "    if not people.get(post[\"from_id\"]):\n",
    "        people[post[\"from_id\"]] = {\"posts_id\": [],\n",
    "                                   \"comments_id\": []}\n",
    "    people[post[\"from_id\"]][\"posts_id\"].append(post[\"id\"])\n",
    "    for comment in post[\"comments\"]:\n",
    "        if not people.get(comment[\"from_id\"]):\n",
    "            people[comment[\"from_id\"]] = {\"posts_id\": [],\n",
    "                                          \"comments_id\": []}\n",
    "        people[comment[\"from_id\"]][\"comments_id\"].append(comment[\"id\"])\n",
    "# Собираем id в массив для запроса\n",
    "user = []\n",
    "for id in log_progress(people, every=10):\n",
    "    if id > 0:  # Если это пользователь, а не группа\n",
    "        user.append(id)\n",
    "# Запрашиваем информацию по 500 пользователей\n",
    "count = len(user)\n",
    "counter = 0\n",
    "while (counter < count):\n",
    "    response = vk.users.get(user_ids=user[counter:counter + 500],\n",
    "                            fields=\"sex, city, bdate\")\n",
    "    for item in response:\n",
    "        try:\n",
    "            people[item[\"id\"]][\"sex\"] = item.get(\"sex\")\n",
    "            people[item[\"id\"]][\"city\"] = item.get(\"city\")\n",
    "            people[item[\"id\"]][\"bdate\"] = item.get('bdate')\n",
    "        except:\n",
    "            print(item)\n",
    "    counter += 500\n",
    "print(\"Информация о пользователях загружена\")"
   ]
  },
  {
   "cell_type": "markdown",
   "metadata": {},
   "source": [
    "# Работа с данными\n",
    "Вычисляем возраст пользователей. Если его нет, то возраст равен 0."
   ]
  },
  {
   "cell_type": "code",
   "execution_count": 18,
   "metadata": {},
   "outputs": [],
   "source": [
    "for id in people:\n",
    "    if id > 0:\n",
    "        people[id][\"age\"] = calculate_age(people[id][\"bdate\"])"
   ]
  },
  {
   "cell_type": "markdown",
   "metadata": {},
   "source": [
    "Считаем частотность употребления обычных слов. Убираем стоп-слова и вычисляем 30 самых частых."
   ]
  },
  {
   "cell_type": "code",
   "execution_count": 19,
   "metadata": {},
   "outputs": [],
   "source": [
    "# Считаем частоту употребления слов\n",
    "len_words = {}\n",
    "for post in posts:\n",
    "    temp = get_word(post[\"clean_text\"])\n",
    "    for word in temp:\n",
    "        # Проверка, есть ли слово в словаре\n",
    "        if not len_words.get(word):\n",
    "            len_words[word] = 1\n",
    "        else:\n",
    "            len_words[word] += 1\n",
    "    for comment in post[\"comments\"]:\n",
    "        temp = get_word(comment[\"clean_text\"])\n",
    "        for word in temp:\n",
    "            if not len_words.get(word):\n",
    "                len_words[word] = 1\n",
    "            else:\n",
    "                len_words[word] += 1\n",
    "# Сортируем слова по убыванию частоты их употребления\n",
    "sorted_by_value = sorted(len_words.items(), key=lambda kv: kv[1]*(-1))\n",
    "# Загружаем стоп-слова\n",
    "file = open(\"rus_stopwords.txt\", \"r\", encoding=\"utf-8\")\n",
    "stop_words = {}\n",
    "for word in file.read().split('\\n'):\n",
    "    stop_words[word] = 1\n",
    "clean_freq = []\n",
    "# Отбираем 30 самых частых не стоп-слов\n",
    "i = 0\n",
    "for word in sorted_by_value:\n",
    "    if not stop_words.get(word[0]):  # Если нет слов в словаре стоп-слов\n",
    "        clean_freq.append(word)\n",
    "        i += 1\n",
    "    if i == 30:\n",
    "        break"
   ]
  },
  {
   "cell_type": "markdown",
   "metadata": {},
   "source": [
    "Считаем частотность появления лемматизированных слов. Убираем стоп-слова и вычисляем 30 самых частых."
   ]
  },
  {
   "cell_type": "code",
   "execution_count": 20,
   "metadata": {},
   "outputs": [],
   "source": [
    "# Считаем частоту употребления слов\n",
    "len_words = {}\n",
    "for post in posts:\n",
    "    temp = get_word(post[\"lem_text\"])\n",
    "    for word in temp:\n",
    "        # Проверка, есть ли слово в словаре\n",
    "        if not len_words.get(word):\n",
    "            len_words[word] = 1\n",
    "        else:\n",
    "            len_words[word] += 1\n",
    "    for comment in post[\"comments\"]:\n",
    "        temp = get_word(comment[\"lem_text\"])\n",
    "        for word in temp:\n",
    "            if not len_words.get(word):\n",
    "                len_words[word] = 1\n",
    "            else:\n",
    "                len_words[word] += 1\n",
    "# Сортируем слова по убыванию частоты их употребления\n",
    "sorted_by_value = sorted(len_words.items(), key=lambda kv: kv[1]*(-1))\n",
    "lem_freq = []\n",
    "# Отбираем 30 самых частых не стоп-слов\n",
    "i = 0\n",
    "for word in sorted_by_value:\n",
    "    if not stop_words.get(word[0]):\n",
    "        lem_freq.append(word)\n",
    "        i += 1\n",
    "    if i == 30:\n",
    "        break"
   ]
  },
  {
   "cell_type": "markdown",
   "metadata": {},
   "source": [
    "Заполняем базу данных.\n",
    "\n",
    "В ней три таблицы. С информацией о пользователях, о постах и о комментариях к постам."
   ]
  },
  {
   "cell_type": "code",
   "execution_count": 21,
   "metadata": {},
   "outputs": [
    {
     "name": "stdout",
     "output_type": "stream",
     "text": [
      "Данные записаны\n"
     ]
    }
   ],
   "source": [
    "# создаем базу данных\n",
    "con = sqlite3.connect(\"mydatabase.db\")\n",
    "\n",
    "cur = con.cursor()\n",
    "# Если в таблице были старые данные, удаляем\n",
    "try:\n",
    "    cur.execute('DROP TABLE ourposts')\n",
    "    cur.execute('DROP TABLE ourcomments')\n",
    "    cur.execute('DROP TABLE people')\n",
    "except:\n",
    "    pass\n",
    "\n",
    "# Создаём таблицы\n",
    "cur.execute('CREATE TABLE ourposts (' +\n",
    "            'post_id integer, ' +\n",
    "            'post_text text, ' +\n",
    "            'from_id integer, ' +\n",
    "            'len_post integer, ' +\n",
    "            'average_com_len integer, ' +\n",
    "            'clean_text text, ' +\n",
    "            'lem_text_post text, ' +\n",
    "            'post_date text)')\n",
    "\n",
    "cur.execute('CREATE TABLE ourcomments (' +\n",
    "            'com_id integer, ' +\n",
    "            'post_id integer, ' +\n",
    "            'com_text text, ' +\n",
    "            'from_id integer, ' +\n",
    "            'len_com integer, ' +\n",
    "            'clean_text text, ' +\n",
    "            'lem_text_com text)')\n",
    "\n",
    "cur.execute('CREATE TABLE people (' +\n",
    "            'id integer, ' +\n",
    "            'sex text, ' +\n",
    "            'city text, ' +\n",
    "            'bdate text, ' +\n",
    "            'posts_id text, ' +\n",
    "            'comments_id text)')\n",
    "con.commit()\n",
    "\n",
    "# Создаём датасеты для заполнения\n",
    "data_post = []\n",
    "data_comments = []\n",
    "for post in posts:\n",
    "    data_post.append((post[\"id\"],\n",
    "                      post[\"text\"],\n",
    "                      post[\"from_id\"],\n",
    "                      post[\"text_len\"],\n",
    "                      post[\"average_value\"],\n",
    "                      post[\"clean_text\"],\n",
    "                      post[\"lem_text\"],\n",
    "                      post[\"date\"]))\n",
    "\n",
    "    for comment in post[\"comments\"]:\n",
    "        data_comments.append((comment[\"id\"],\n",
    "                              post[\"id\"],\n",
    "                              comment[\"text\"],\n",
    "                              comment[\"from_id\"],\n",
    "                              comment[\"text_len\"],\n",
    "                              comment[\"clean_text\"],\n",
    "                              comment[\"lem_text\"]))\n",
    "info = []\n",
    "for id in people:\n",
    "    if id > 0:\n",
    "        posts_id = ''\n",
    "        for i in people[id][\"posts_id\"]:\n",
    "            posts_id += str(i) + \",\"\n",
    "        comments_id = ''\n",
    "        for i in people[id][\"comments_id\"]:\n",
    "            comments_id += str(i) + \",\"\n",
    "        info.append((id,\n",
    "                     str(people[id][\"sex\"]),\n",
    "                     (None if not people[id][\"city\"]\n",
    "                      else people[id][\"city\"][\"title\"]),\n",
    "                     str(people[id][\"bdate\"]),\n",
    "                     posts_id,\n",
    "                     comments_id))\n",
    "\n",
    "# Заполняем\n",
    "cur.executemany('INSERT INTO ourposts VALUES(?, ?, ?, ?, ?, ?, ?, ?)',\n",
    "                data_post)\n",
    "\n",
    "cur.executemany('INSERT INTO ourcomments VALUES(?, ?, ?, ?, ?, ?, ?)',\n",
    "                data_comments)\n",
    "\n",
    "cur.executemany('INSERT INTO people VALUES(?, ?, ?, ?, ?, ?)',\n",
    "                info)\n",
    "con.commit()\n",
    "\n",
    "print('Данные записаны')\n",
    "cur.close()\n",
    "con.close()"
   ]
  },
  {
   "cell_type": "markdown",
   "metadata": {},
   "source": [
    "# Построение графиков"
   ]
  },
  {
   "cell_type": "markdown",
   "metadata": {},
   "source": [
    "График зависимости средней длины комментариев от длины поста\n",
    "\n",
    "Во всех графиках я делаю подписи особым шрифтом и меняю цвет столбцов."
   ]
  },
  {
   "cell_type": "code",
   "execution_count": 22,
   "metadata": {},
   "outputs": [
    {
     "name": "stderr",
     "output_type": "stream",
     "text": [
      "c:\\users\\robot\\appdata\\local\\programs\\python\\python37\\lib\\site-packages\\IPython\\core\\display.py:689: UserWarning:\n",
      "\n",
      "Consider using IPython.display.IFrame instead\n",
      "\n"
     ]
    },
    {
     "data": {
      "text/html": [
       "<iframe id=\"igraph\" scrolling=\"no\" style=\"border:none;\" seamless=\"seamless\" src=\"https://plot.ly/~Foxride/16.embed\" height=\"525px\" width=\"100%\"></iframe>"
      ],
      "text/plain": [
       "<chart_studio.tools.PlotlyDisplay object>"
      ]
     },
     "execution_count": 22,
     "metadata": {},
     "output_type": "execute_result"
    }
   ],
   "source": [
    "x = []\n",
    "y = []\n",
    "\n",
    "# Для совпадающих значений по x вычисляем среднюю средних длин комментариев\n",
    "post_lens = {}\n",
    "for post in posts:\n",
    "    post_len = post[\"text_len\"]\n",
    "    if not post_lens.get(post_len):\n",
    "        post_lens[post_len] = [post[\"average_value\"], 1]\n",
    "    else:\n",
    "        post_lens[post_len] = [post_lens[post_len][0] + post[\"average_value\"],\n",
    "                               post_lens[post_len][1] + 1]\n",
    "for key in post_lens:\n",
    "    post_lens[key] = round(post_lens[key][0] / post_lens[key][1])\n",
    "# Заполняем данные для графика\n",
    "for key in post_lens:\n",
    "    x.append(key)\n",
    "    y.append(post_lens[key])\n",
    "# Cтроим график\n",
    "data = [go.Bar(x=x, y=y)]\n",
    "# Изменяем его внешний вид\n",
    "layout = go.Layout(\n",
    "    title=go.layout.Title(\n",
    "        text='График зависимости средней длины комментариев от длины поста',\n",
    "        xref='paper',\n",
    "        x=0\n",
    "    ),\n",
    "    xaxis=go.layout.XAxis(\n",
    "        title=go.layout.xaxis.Title(\n",
    "            text='Длина поста',\n",
    "            font=dict(\n",
    "                family='Courier New, monospace',\n",
    "                size=18,\n",
    "                color='#7f7f7f'\n",
    "            )\n",
    "        )\n",
    "    ),\n",
    "    yaxis=go.layout.YAxis(\n",
    "        title=go.layout.yaxis.Title(\n",
    "            text='Средняя длина комментариев',\n",
    "            font=dict(\n",
    "                family='Courier New, monospace',\n",
    "                size=18,\n",
    "                color='#7f7f7f'\n",
    "            )\n",
    "        )\n",
    "    )\n",
    ")\n",
    "# Отображаем график\n",
    "fig = go.Figure(data=data, layout=layout)\n",
    "py.iplot(fig, filename='len_post_len_com')"
   ]
  },
  {
   "cell_type": "markdown",
   "metadata": {},
   "source": [
    "График частотности для топ-30 слов по нелемматизированным текстам"
   ]
  },
  {
   "cell_type": "code",
   "execution_count": 23,
   "metadata": {},
   "outputs": [
    {
     "data": {
      "text/html": [
       "<iframe id=\"igraph\" scrolling=\"no\" style=\"border:none;\" seamless=\"seamless\" src=\"https://plot.ly/~Foxride/18.embed\" height=\"525px\" width=\"100%\"></iframe>"
      ],
      "text/plain": [
       "<chart_studio.tools.PlotlyDisplay object>"
      ]
     },
     "execution_count": 23,
     "metadata": {},
     "output_type": "execute_result"
    }
   ],
   "source": [
    "x = []\n",
    "y = []\n",
    "\n",
    "for item in clean_freq:\n",
    "    x.append(item[0])\n",
    "    y.append(item[1])\n",
    "\n",
    "data = [go.Bar(x=x, y=y, marker=dict(color='rgb(62,180,137)'))]\n",
    "layout = go.Layout(\n",
    "    title=go.layout.Title(\n",
    "        text=('График частотности для топ-30 слов' +\n",
    "              'по нелемматизированным текстам'),\n",
    "        xref='paper',\n",
    "        x=0\n",
    "    ),\n",
    "    xaxis=go.layout.XAxis(\n",
    "        title=go.layout.xaxis.Title(\n",
    "            text='Слово',\n",
    "            font=dict(\n",
    "                family='Courier New, monospace',\n",
    "                size=18,\n",
    "                color='#7f7f7f'\n",
    "            )\n",
    "        )\n",
    "    ),\n",
    "    yaxis=go.layout.YAxis(\n",
    "        title=go.layout.yaxis.Title(\n",
    "            text='Частотность',\n",
    "            font=dict(\n",
    "                family='Courier New, monospace',\n",
    "                size=18,\n",
    "                color='#7f7f7f'\n",
    "            )\n",
    "        )\n",
    "    )\n",
    ")\n",
    "fig = go.Figure(data=data, layout=layout)\n",
    "py.iplot(fig, filename='clear_top_30')"
   ]
  },
  {
   "cell_type": "markdown",
   "metadata": {},
   "source": [
    "График частотности для топ-30 слов по лемматизированным текстам"
   ]
  },
  {
   "cell_type": "code",
   "execution_count": 24,
   "metadata": {},
   "outputs": [
    {
     "data": {
      "text/html": [
       "<iframe id=\"igraph\" scrolling=\"no\" style=\"border:none;\" seamless=\"seamless\" src=\"https://plot.ly/~Foxride/20.embed\" height=\"525px\" width=\"100%\"></iframe>"
      ],
      "text/plain": [
       "<chart_studio.tools.PlotlyDisplay object>"
      ]
     },
     "execution_count": 24,
     "metadata": {},
     "output_type": "execute_result"
    }
   ],
   "source": [
    "x = []\n",
    "y = []\n",
    "\n",
    "for item in lem_freq:\n",
    "    x.append(item[0])\n",
    "    y.append(item[1])\n",
    "\n",
    "data = [go.Bar(x=x, y=y, marker=dict(color='rgb(204,85,0)'))]\n",
    "layout = go.Layout(\n",
    "    title=go.layout.Title(\n",
    "        text=('График частотности для топ-30' +\n",
    "              'слов по лемматизированным текстам'),\n",
    "        xref='paper',\n",
    "        x=0\n",
    "    ),\n",
    "    xaxis=go.layout.XAxis(\n",
    "        title=go.layout.xaxis.Title(\n",
    "            text='Слово',\n",
    "            font=dict(\n",
    "                family='Courier New, monospace',\n",
    "                size=18,\n",
    "                color='#7f7f7f'\n",
    "            )\n",
    "        )\n",
    "    ),\n",
    "    yaxis=go.layout.YAxis(\n",
    "        title=go.layout.yaxis.Title(\n",
    "            text='Частотность',\n",
    "            font=dict(\n",
    "                family='Courier New, monospace',\n",
    "                size=18,\n",
    "                color='#7f7f7f'\n",
    "            )\n",
    "        )\n",
    "    )\n",
    ")\n",
    "fig = go.Figure(data=data, layout=layout)\n",
    "py.iplot(fig, filename='lem_top_30')"
   ]
  },
  {
   "cell_type": "code",
   "execution_count": 25,
   "metadata": {},
   "outputs": [
    {
     "data": {
      "image/png": "[encoded data removed]",
      "text/plain": [
       "<Figure size 432x288 with 1 Axes>"
      ]
     },
     "metadata": {
      "needs_background": "light"
     },
     "output_type": "display_data"
    },
    {
     "data": {
      "image/png": "[encoded data removed]",
      "text/plain": [
       "<PIL.PngImagePlugin.PngImageFile image mode=RGB size=1000x732 at 0x1C96D3AC048>"
      ]
     },
     "execution_count": 25,
     "metadata": {},
     "output_type": "execute_result"
    }
   ],
   "source": [
    "text = \"\"\n",
    "for item in lem_freq:\n",
    "    text += str(item[0]) + \" \"\n",
    "\n",
    "comment_mask = np.array(Image.open(\"listya-47.jpg\"))\n",
    "\n",
    "cloud = WordCloud(background_color=\"white\", max_words=2000, mask=comment_mask)\n",
    "\n",
    "# генерируем\n",
    "cloud.generate(text)\n",
    "\n",
    "# визуализируем\n",
    "plt.imshow(cloud, interpolation='bilinear')\n",
    "plt.axis(\"off\")\n",
    "plt.show()\n",
    "\n",
    "# store to file\n",
    "cloud.to_file(\"word_cloud.png\")\n",
    "Image.open(\"word_cloud.png\")"
   ]
  },
  {
   "cell_type": "markdown",
   "metadata": {},
   "source": [
    "График зависимости средней длины комментариев от возраста пользователя"
   ]
  },
  {
   "cell_type": "code",
   "execution_count": 26,
   "metadata": {},
   "outputs": [
    {
     "data": {
      "text/html": [
       "<iframe id=\"igraph\" scrolling=\"no\" style=\"border:none;\" seamless=\"seamless\" src=\"https://plot.ly/~Foxride/22.embed\" height=\"525px\" width=\"100%\"></iframe>"
      ],
      "text/plain": [
       "<chart_studio.tools.PlotlyDisplay object>"
      ]
     },
     "execution_count": 26,
     "metadata": {},
     "output_type": "execute_result"
    }
   ],
   "source": [
    "x = []\n",
    "y = []\n",
    "age = {}\n",
    "comments = {}\n",
    "# Собираем все комментарии в словарь по их Id для удобного поиска\n",
    "for post in posts:\n",
    "    for comment in post['comments']:\n",
    "        comments[comment[\"id\"]] = comment\n",
    "\n",
    "# Для каждого возраста вычисляем среднюю длину комментариев\n",
    "for id in people:\n",
    "    if id > 0:\n",
    "        temp_age = people[id][\"age\"]\n",
    "        # Вычисляем среднее для человека\n",
    "        comments_averege = 0\n",
    "        for comment_id in people[id][\"comments_id\"]:\n",
    "            comments_averege += comments[comment_id][\"text_len\"]\n",
    "            comments_averege = round(comments_averege /\n",
    "                                     len(people[id][\"comments_id\"]))\n",
    "        if not age.get(temp_age):\n",
    "            age[temp_age] = [comments_averege, 1]\n",
    "        else:\n",
    "            age[temp_age] = (age[temp_age][0] + comments_averege,\n",
    "                             age[temp_age][1] + 1)\n",
    "\n",
    "for key in age:\n",
    "    age[key] = round(age[key][0]/age[key][1])\n",
    "\n",
    "for key in age:\n",
    "    x.append(key)\n",
    "    y.append(age[key])\n",
    "\n",
    "data = [go.Bar(x=x, y=y, marker=dict(color='rgb(84,57,100)'))]\n",
    "layout = go.Layout(\n",
    "    title=go.layout.Title(\n",
    "        text='График зависимости средней длины' +\n",
    "             'комментариев от возраста пользователя ',\n",
    "        xref='paper',\n",
    "        x=0\n",
    "    ),\n",
    "    xaxis=go.layout.XAxis(\n",
    "        title=go.layout.xaxis.Title(\n",
    "            text='Возраст пользователя',\n",
    "            font=dict(\n",
    "                family='Courier New, monospace',\n",
    "                size=18,\n",
    "                color='#7f7f7f'\n",
    "            )\n",
    "        )\n",
    "    ),\n",
    "    yaxis=go.layout.YAxis(\n",
    "        title=go.layout.yaxis.Title(\n",
    "            text='Средняя длина комментариев',\n",
    "            font=dict(\n",
    "                family='Courier New, monospace',\n",
    "                size=18,\n",
    "                color='#7f7f7f'\n",
    "            )\n",
    "        )\n",
    "    )\n",
    ")\n",
    "fig = go.Figure(data=data, layout=layout)\n",
    "py.iplot(fig, filename='len_age')"
   ]
  },
  {
   "cell_type": "markdown",
   "metadata": {},
   "source": [
    "График зависимости средней длины комментария от города пользователя"
   ]
  },
  {
   "cell_type": "code",
   "execution_count": 27,
   "metadata": {},
   "outputs": [
    {
     "data": {
      "text/html": [
       "<iframe id=\"igraph\" scrolling=\"no\" style=\"border:none;\" seamless=\"seamless\" src=\"https://plot.ly/~Foxride/24.embed\" height=\"525px\" width=\"100%\"></iframe>"
      ],
      "text/plain": [
       "<chart_studio.tools.PlotlyDisplay object>"
      ]
     },
     "execution_count": 27,
     "metadata": {},
     "output_type": "execute_result"
    }
   ],
   "source": [
    "x = []\n",
    "y = []\n",
    "city = {}\n",
    "comments = {}\n",
    "for post in posts:\n",
    "    for comment in post['comments']:\n",
    "        comments[comment[\"id\"]] = comment\n",
    "\n",
    "for id in people:\n",
    "    if id > 0:\n",
    "        town = None if not people[id][\"city\"] else people[id][\"city\"][\"title\"]\n",
    "        city[town] = [0, 0]\n",
    "for comment in comments:\n",
    "    try:\n",
    "        if comments[comment][\"from_id\"] > 0:\n",
    "            key = (None if not people[comments[comment][\"from_id\"]][\"city\"]\n",
    "                   else people[comments[comment][\"from_id\"]][\"city\"][\"title\"])\n",
    "            city[key] = [city[key][0] + comments[comment][\"text_len\"],\n",
    "                         city[key][1] + 1]\n",
    "    except:\n",
    "        print(people[comments[comment][\"from_id\"]])\n",
    "for key in city:\n",
    "    city[key] = round(city[key][0] / city[key][1])\n",
    "\n",
    "\n",
    "for key in city:\n",
    "    x.append(key)\n",
    "    y.append(city[key])\n",
    "\n",
    "data = [go.Bar(x=x, y=y, marker=dict(color='rgb(156,2,167)'))]\n",
    "layout = go.Layout(\n",
    "    title=go.layout.Title(\n",
    "        text=('График зависимости средней' +\n",
    "              'длины комментариев от города пользователя'),\n",
    "        xref='paper',\n",
    "        x=0\n",
    "    ),\n",
    "    xaxis=go.layout.XAxis(\n",
    "        title=go.layout.xaxis.Title(\n",
    "            text='Город пользователя',\n",
    "            font=dict(\n",
    "                family='Courier New, monospace',\n",
    "                size=18,\n",
    "                color='#7f7f7f'\n",
    "            )\n",
    "        )\n",
    "    ),\n",
    "    yaxis=go.layout.YAxis(\n",
    "        title=go.layout.yaxis.Title(\n",
    "            text='Средняя длина комментариев',\n",
    "            font=dict(\n",
    "                family='Courier New, monospace',\n",
    "                size=18,\n",
    "                color='#7f7f7f'\n",
    "            )\n",
    "        )\n",
    "    )\n",
    ")\n",
    "fig = go.Figure(data=data, layout=layout)\n",
    "py.iplot(fig, filename='city_len')"
   ]
  },
  {
   "cell_type": "markdown",
   "metadata": {},
   "source": [
    "График зависимости средней длины поста от месяца публикации"
   ]
  },
  {
   "cell_type": "code",
   "execution_count": 28,
   "metadata": {},
   "outputs": [
    {
     "data": {
      "text/html": [
       "<iframe id=\"igraph\" scrolling=\"no\" style=\"border:none;\" seamless=\"seamless\" src=\"https://plot.ly/~Foxride/11.embed\" height=\"525px\" width=\"100%\"></iframe>"
      ],
      "text/plain": [
       "<chart_studio.tools.PlotlyDisplay object>"
      ]
     },
     "execution_count": 28,
     "metadata": {},
     "output_type": "execute_result"
    }
   ],
   "source": [
    "x = []\n",
    "y = []\n",
    "months = {}\n",
    "for post in posts:\n",
    "    month = time.ctime(post[\"date\"]).split()[1]\n",
    "    if not months.get(month):\n",
    "        months[month] = [post[\"text_len\"], 1]\n",
    "    else:\n",
    "        months[month] = [months[month][0] + post[\"text_len\"],\n",
    "                         months[month][1] + 1]\n",
    "\n",
    "for key in months:\n",
    "    months[key] = round(months[key][0] / months[key][1])\n",
    "\n",
    "\n",
    "for key in months:\n",
    "    x.append(key)\n",
    "    y.append(months[key])\n",
    "\n",
    "data = [go.Bar(x=x, y=y, marker=dict(color='rgb(26,22,42)'))]\n",
    "layout = go.Layout(\n",
    "    title=go.layout.Title(\n",
    "        text='График зависимости средней длины поста от месяца публикации',\n",
    "        xref='paper',\n",
    "        x=0\n",
    "    ),\n",
    "    xaxis=go.layout.XAxis(\n",
    "        title=go.layout.xaxis.Title(\n",
    "            text='Месяц публикации',\n",
    "            font=dict(\n",
    "                family='Courier New, monospace',\n",
    "                size=18,\n",
    "                color='#7f7f7f'\n",
    "            )\n",
    "        )\n",
    "    ),\n",
    "    yaxis=go.layout.YAxis(\n",
    "        title=go.layout.yaxis.Title(\n",
    "            text='Средняя длина поста',\n",
    "            font=dict(\n",
    "                family='Courier New, monospace',\n",
    "                size=18,\n",
    "                color='#7f7f7f'\n",
    "            )\n",
    "        )\n",
    "    )\n",
    ")\n",
    "fig = go.Figure(data=data, layout=layout)\n",
    "py.iplot(fig, filename='public_month')"
   ]
  },
  {
   "cell_type": "markdown",
   "metadata": {},
   "source": [
    "График зависимости ср. длины поста от года публикации"
   ]
  },
  {
   "cell_type": "code",
   "execution_count": 29,
   "metadata": {},
   "outputs": [
    {
     "data": {
      "text/html": [
       "<iframe id=\"igraph\" scrolling=\"no\" style=\"border:none;\" seamless=\"seamless\" src=\"https://plot.ly/~Foxride/9.embed\" height=\"525px\" width=\"100%\"></iframe>"
      ],
      "text/plain": [
       "<chart_studio.tools.PlotlyDisplay object>"
      ]
     },
     "execution_count": 29,
     "metadata": {},
     "output_type": "execute_result"
    }
   ],
   "source": [
    "x = []\n",
    "y = []\n",
    "years = {}\n",
    "for post in posts:\n",
    "    year = time.ctime(post[\"date\"]).split()[4]\n",
    "    if not years.get(year):\n",
    "        years[year] = [post[\"text_len\"], 1]\n",
    "    else:\n",
    "        years[year] = [years[year][0] + post[\"text_len\"],\n",
    "                       years[year][1] + 1]\n",
    "\n",
    "for key in years:\n",
    "    years[key] = round(years[key][0] / years[key][1])\n",
    "\n",
    "\n",
    "for key in years:\n",
    "    x.append(key)\n",
    "    y.append(years[key])\n",
    "\n",
    "data = [go.Bar(x=x, y=y, marker=dict(color='rgb(0,0,0)'))]\n",
    "layout = go.Layout(\n",
    "    title=go.layout.Title(\n",
    "        text='График зависимости средней длины поста от года публикации',\n",
    "        xref='paper',\n",
    "        x=0\n",
    "    ),\n",
    "    xaxis=go.layout.XAxis(\n",
    "        title=go.layout.xaxis.Title(\n",
    "            text='Год публикации',\n",
    "            font=dict(\n",
    "                family='Courier New, monospace',\n",
    "                size=18,\n",
    "                color='#7f7f7f'\n",
    "            )\n",
    "        )\n",
    "    ),\n",
    "    yaxis=go.layout.YAxis(\n",
    "        title=go.layout.yaxis.Title(\n",
    "            text='Средняя длина поста',\n",
    "            font=dict(\n",
    "                family='Courier New, monospace',\n",
    "                size=18,\n",
    "                color='#7f7f7f'\n",
    "            )\n",
    "        )\n",
    "    )\n",
    ")\n",
    "fig = go.Figure(data=data, layout=layout)\n",
    "py.iplot(fig, filename='public_year')"
   ]
  }
 ],
 "metadata": {
  "celltoolbar": "Raw Cell Format",
  "kernelspec": {
   "display_name": "Python 3",
   "language": "python",
   "name": "python3"
  },
  "language_info": {
   "codemirror_mode": {
    "name": "ipython",
    "version": 3
   },
   "file_extension": ".py",
   "mimetype": "text/x-python",
   "name": "python",
   "nbconvert_exporter": "python",
   "pygments_lexer": "ipython3",
   "version": "3.7.3"
  }
 },
 "nbformat": 4,
 "nbformat_minor": 2
}
